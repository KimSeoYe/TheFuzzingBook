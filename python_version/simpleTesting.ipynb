{
 "cells": [
  {
   "cell_type": "code",
   "execution_count": 1,
   "id": "independent-newspaper",
   "metadata": {},
   "outputs": [],
   "source": [
    "def my_sqrt(x):\n",
    "    approx = None\n",
    "    guess = x / 2\n",
    "    while approx != guess:\n",
    "        approx = guess\n",
    "        guess = (approx + x / approx) / 2\n",
    "    return approx"
   ]
  },
  {
   "cell_type": "code",
   "execution_count": 2,
   "id": "stuffed-plenty",
   "metadata": {},
   "outputs": [
    {
     "data": {
      "text/plain": [
       "2.0"
      ]
     },
     "execution_count": 2,
     "metadata": {},
     "output_type": "execute_result"
    }
   ],
   "source": [
    "my_sqrt(4)"
   ]
  },
  {
   "cell_type": "code",
   "execution_count": 3,
   "id": "athletic-valuable",
   "metadata": {},
   "outputs": [
    {
     "name": "stdout",
     "output_type": "stream",
     "text": [
      "Test passed\n"
     ]
    }
   ],
   "source": [
    "result = my_sqrt(4)\n",
    "expected_result = 2.0\n",
    "if result == expected_result:\n",
    "    print(\"Test passed\")\n",
    "else:\n",
    "    print(\"Test failed\")"
   ]
  },
  {
   "cell_type": "code",
   "execution_count": 4,
   "id": "artistic-logistics",
   "metadata": {},
   "outputs": [],
   "source": [
    "def assertEquals(x, y, epsilon = 1e-8):\n",
    "    assert abs(x - y) < epsilon"
   ]
  },
  {
   "cell_type": "code",
   "execution_count": 5,
   "id": "earned-gender",
   "metadata": {},
   "outputs": [],
   "source": [
    "for n in range(1, 1000):\n",
    "    assertEquals(my_sqrt(n) * my_sqrt(n), n)"
   ]
  },
  {
   "cell_type": "code",
   "execution_count": 28,
   "id": "opponent-notebook",
   "metadata": {},
   "outputs": [
    {
     "name": "stderr",
     "output_type": "stream",
     "text": [
      "DEBUG:timer.timer:start\n",
      "DEBUG:timer.timer:cost 45 ms\n"
     ]
    }
   ],
   "source": [
    "# import bookutils\n",
    "import logging\n",
    "from timer import timer\n",
    "\n",
    "logging.basicConfig(level=logging.DEBUG)\n",
    "\n",
    "with timer() as t:\n",
    "    for n in range(1, 10000):\n",
    "        assertEquals(my_sqrt(n) * my_sqrt(n), n)\n",
    "\n",
    "\n",
    "# print(t.elapsed_time())"
   ]
  },
  {
   "cell_type": "code",
   "execution_count": 7,
   "id": "enormous-amplifier",
   "metadata": {},
   "outputs": [],
   "source": [
    "def my_sqrt_checked(x):\n",
    "    root = my_sqrt(x)\n",
    "    assertEquals(root * root, x)\n",
    "    return root"
   ]
  },
  {
   "cell_type": "code",
   "execution_count": 8,
   "id": "saved-report",
   "metadata": {},
   "outputs": [
    {
     "data": {
      "text/plain": [
       "1.414213562373095"
      ]
     },
     "execution_count": 8,
     "metadata": {},
     "output_type": "execute_result"
    }
   ],
   "source": [
    "my_sqrt_checked(2.0)"
   ]
  },
  {
   "cell_type": "code",
   "execution_count": 29,
   "id": "dried-spine",
   "metadata": {},
   "outputs": [],
   "source": [
    "def sqrt_program(arg):\n",
    "    x = int(arg)\n",
    "    print('The root of', x, 'is', my_sqrt(x))"
   ]
  },
  {
   "cell_type": "code",
   "execution_count": 32,
   "id": "super-raleigh",
   "metadata": {},
   "outputs": [
    {
     "name": "stdout",
     "output_type": "stream",
     "text": [
      "The root of 4 is 2.0\n"
     ]
    }
   ],
   "source": [
    "sqrt_program(\"4\")"
   ]
  },
  {
   "cell_type": "code",
   "execution_count": 33,
   "id": "heard-harris",
   "metadata": {},
   "outputs": [
    {
     "ename": "ModuleNotFoundError",
     "evalue": "No module named 'ExpectError'",
     "output_type": "error",
     "traceback": [
      "\u001b[0;31m---------------------------------------------------------------------------\u001b[0m",
      "\u001b[0;31mModuleNotFoundError\u001b[0m                       Traceback (most recent call last)",
      "\u001b[0;32m<ipython-input-33-5f0a75b11daf>\u001b[0m in \u001b[0;36m<module>\u001b[0;34m\u001b[0m\n\u001b[0;32m----> 1\u001b[0;31m \u001b[0;32mfrom\u001b[0m \u001b[0mExpectError\u001b[0m \u001b[0;32mimport\u001b[0m \u001b[0mExpectTimeout\u001b[0m\u001b[0;34m\u001b[0m\u001b[0;34m\u001b[0m\u001b[0m\n\u001b[0m\u001b[1;32m      2\u001b[0m \u001b[0;34m\u001b[0m\u001b[0m\n\u001b[1;32m      3\u001b[0m \u001b[0;32mwith\u001b[0m \u001b[0mExpectTimeout\u001b[0m\u001b[0;34m(\u001b[0m\u001b[0;36m1\u001b[0m\u001b[0;34m)\u001b[0m\u001b[0;34m:\u001b[0m\u001b[0;34m\u001b[0m\u001b[0;34m\u001b[0m\u001b[0m\n\u001b[1;32m      4\u001b[0m     \u001b[0msqrt_program\u001b[0m\u001b[0;34m(\u001b[0m\u001b[0;34m\"-1\"\u001b[0m\u001b[0;34m)\u001b[0m\u001b[0;34m\u001b[0m\u001b[0;34m\u001b[0m\u001b[0m\n",
      "\u001b[0;31mModuleNotFoundError\u001b[0m: No module named 'ExpectError'"
     ]
    }
   ],
   "source": [
    "# Q. module ?\n",
    "\n",
    "from ExpectError import ExpectTimeout\n",
    "\n",
    "with ExpectTimeout(1):\n",
    "    sqrt_program(\"-1\")"
   ]
  },
  {
   "cell_type": "code",
   "execution_count": 34,
   "id": "authorized-stocks",
   "metadata": {},
   "outputs": [],
   "source": [
    "def sqrt_program(arg):\n",
    "    x = int(arg)\n",
    "    if x < 0:\n",
    "        print(\"Illegal Input\")\n",
    "    else:\n",
    "        print('The root of', x, 'is', my_sqrt(x))"
   ]
  },
  {
   "cell_type": "code",
   "execution_count": 36,
   "id": "hidden-excuse",
   "metadata": {},
   "outputs": [
    {
     "name": "stdout",
     "output_type": "stream",
     "text": [
      "Illegal Input\n"
     ]
    }
   ],
   "source": [
    "sqrt_program(\"-1\")"
   ]
  },
  {
   "cell_type": "code",
   "execution_count": 37,
   "id": "documentary-douglas",
   "metadata": {},
   "outputs": [
    {
     "ename": "ModuleNotFoundError",
     "evalue": "No module named 'ExpectError'",
     "output_type": "error",
     "traceback": [
      "\u001b[0;31m---------------------------------------------------------------------------\u001b[0m",
      "\u001b[0;31mModuleNotFoundError\u001b[0m                       Traceback (most recent call last)",
      "\u001b[0;32m<ipython-input-37-2f1baecd6051>\u001b[0m in \u001b[0;36m<module>\u001b[0;34m\u001b[0m\n\u001b[1;32m      1\u001b[0m \u001b[0;31m# Q. module ?\u001b[0m\u001b[0;34m\u001b[0m\u001b[0;34m\u001b[0m\u001b[0;34m\u001b[0m\u001b[0m\n\u001b[1;32m      2\u001b[0m \u001b[0;34m\u001b[0m\u001b[0m\n\u001b[0;32m----> 3\u001b[0;31m \u001b[0;32mfrom\u001b[0m \u001b[0mExpectError\u001b[0m \u001b[0;32mimport\u001b[0m \u001b[0mExpectTimeout\u001b[0m\u001b[0;34m\u001b[0m\u001b[0;34m\u001b[0m\u001b[0m\n\u001b[0m\u001b[1;32m      4\u001b[0m \u001b[0;34m\u001b[0m\u001b[0m\n\u001b[1;32m      5\u001b[0m \u001b[0;32mwith\u001b[0m \u001b[0mExpectTimeout\u001b[0m\u001b[0;34m(\u001b[0m\u001b[0;36m1\u001b[0m\u001b[0;34m)\u001b[0m\u001b[0;34m:\u001b[0m\u001b[0;34m\u001b[0m\u001b[0;34m\u001b[0m\u001b[0m\n",
      "\u001b[0;31mModuleNotFoundError\u001b[0m: No module named 'ExpectError'"
     ]
    }
   ],
   "source": [
    "# Q. module ?\n",
    "\n",
    "from ExpectError import ExpectTimeout\n",
    "\n",
    "with ExpectTimeout(1):\n",
    "    sqrt_program(\"xyzzy\")"
   ]
  },
  {
   "cell_type": "code",
   "execution_count": 38,
   "id": "built-caribbean",
   "metadata": {},
   "outputs": [],
   "source": [
    "def sqrt_program(arg):\n",
    "    try:\n",
    "        x = float(arg)\n",
    "    except ValueError:\n",
    "        print(\"Illegal Input\")\n",
    "    else:\n",
    "        if x < 0:\n",
    "            print(\"Illegal Number\")\n",
    "        else:\n",
    "            print('The root of', x, 'is', my_sqrt(x)) "
   ]
  },
  {
   "cell_type": "code",
   "execution_count": 40,
   "id": "expected-proof",
   "metadata": {},
   "outputs": [
    {
     "name": "stdout",
     "output_type": "stream",
     "text": [
      "Illegal Input\n",
      "Illegal Number\n",
      "The root of 4.0 is 2.0\n"
     ]
    }
   ],
   "source": [
    "sqrt_program(\"xyxxz\")\n",
    "sqrt_program(\"-1\")\n",
    "sqrt_program(\"4\")"
   ]
  },
  {
   "cell_type": "code",
   "execution_count": 41,
   "id": "surprised-spread",
   "metadata": {},
   "outputs": [],
   "source": [
    "def my_sqrt_fixed(x):\n",
    "    assert 0 <= x\n",
    "    if x == 0:\n",
    "        return 0\n",
    "    return my_sqrt(x)"
   ]
  },
  {
   "cell_type": "code",
   "execution_count": 42,
   "id": "ultimate-picking",
   "metadata": {},
   "outputs": [],
   "source": [
    "assert my_sqrt_fixed(0) == 0"
   ]
  },
  {
   "cell_type": "code",
   "execution_count": null,
   "id": "engaged-cruise",
   "metadata": {},
   "outputs": [],
   "source": []
  }
 ],
 "metadata": {
  "kernelspec": {
   "display_name": "Python 3",
   "language": "python",
   "name": "python3"
  },
  "language_info": {
   "codemirror_mode": {
    "name": "ipython",
    "version": 3
   },
   "file_extension": ".py",
   "mimetype": "text/x-python",
   "name": "python",
   "nbconvert_exporter": "python",
   "pygments_lexer": "ipython3",
   "version": "3.9.2"
  }
 },
 "nbformat": 4,
 "nbformat_minor": 5
}
